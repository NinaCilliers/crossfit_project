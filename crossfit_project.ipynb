{
 "cells": [
  {
   "attachments": {},
   "cell_type": "markdown",
   "metadata": {},
   "source": [
    "# Predicting crossfit lift\n",
    "\n",
    "## Project Overview\n",
    "\n",
    "CrossFit is a high-intensity fitness program that combines elements of weightlifting, cardio, and gymnastics. It aims to improve overall physical fitness by incorporating constantly varied functional movements performed at a high intensity. At the pinnacle of CrossFit is the CrossFit Games, an annual competition that showcases the world's fittest athletes. The CrossFit Games serve as a platform for elite athletes to test their skills and compete in a wide range of demanding workouts, challenging their strength, speed, power, and mental resilience. In this analysis, we will delve into the performance of CrossFit athletes, examining key factors that contribute to their success in this highly demanding and competitive sport.  \n",
    "\n",
    "Project Summary\n",
    "\n",
    "The dataset used in this project was provided by Ulrik Pedersen and can be found on [Kaggle](https://www.kaggle.com/datasets/ulrikthygepedersen/crossfit-athletes).\n",
    "\n",
    "## Project outline \n",
    "\n",
    " - Title \n",
    "    - Subtitle\n"
   ]
  },
  {
   "attachments": {},
   "cell_type": "markdown",
   "metadata": {},
   "source": [
    "### Data overview\n",
    "\n",
    "Cleaned data is imported from <i>A data-based approach to CrossFit</i>."
   ]
  },
  {
   "cell_type": "code",
   "execution_count": 48,
   "metadata": {},
   "outputs": [],
   "source": [
    "import pandas as pd\n",
    "import missingno as msno\n",
    "import seaborn as sns\n",
    "import matplotlib as mpl\n",
    "import matplotlib.pyplot as plt\n",
    "import numpy as np\n",
    "import os\n",
    "import pickle"
   ]
  },
  {
   "cell_type": "code",
   "execution_count": 49,
   "metadata": {},
   "outputs": [
    {
     "name": "stdout",
     "output_type": "stream",
     "text": [
      "<class 'pandas.core.frame.DataFrame'>\n",
      "Int64Index: 28995 entries, 21 to 422961\n",
      "Data columns (total 54 columns):\n",
      " #   Column         Non-Null Count  Dtype  \n",
      "---  ------         --------------  -----  \n",
      " 0   region         28995 non-null  object \n",
      " 1   gender         28995 non-null  object \n",
      " 2   age            28995 non-null  float64\n",
      " 3   height         28995 non-null  float64\n",
      " 4   weight         28995 non-null  float64\n",
      " 5   candj          28995 non-null  float64\n",
      " 6   snatch         28995 non-null  float64\n",
      " 7   deadlift       28995 non-null  float64\n",
      " 8   backsq         28995 non-null  float64\n",
      " 9   eat            28995 non-null  object \n",
      " 10  background     28995 non-null  object \n",
      " 11  experience     28995 non-null  object \n",
      " 12  schedule       28995 non-null  object \n",
      " 13  howlong        28995 non-null  object \n",
      " 14  rec            28995 non-null  int32  \n",
      " 15  high_school    28995 non-null  int32  \n",
      " 16  college        28995 non-null  int32  \n",
      " 17  pro            28995 non-null  int32  \n",
      " 18  no_background  28995 non-null  int32  \n",
      " 19  exp_coach      28995 non-null  int32  \n",
      " 20  exp_alone      28995 non-null  int32  \n",
      " 21  exp_courses    28995 non-null  int32  \n",
      " 22  life_changing  28995 non-null  int32  \n",
      " 23  exp_trainer    28995 non-null  int32  \n",
      " 24  exp_level1     28995 non-null  int32  \n",
      " 25  exp_start_nr   28995 non-null  int32  \n",
      " 26  rest_plus      28995 non-null  int32  \n",
      " 27  rest_minus     28995 non-null  int32  \n",
      " 28  rest_sched     28995 non-null  int32  \n",
      " 29  sched_0extra   28995 non-null  int32  \n",
      " 30  sched_1extra   28995 non-null  int32  \n",
      " 31  sched_2extra   28995 non-null  int32  \n",
      " 32  sched_3extra   28995 non-null  int32  \n",
      " 33  sched_nr       28995 non-null  int32  \n",
      " 34  rest_nr        28995 non-null  int32  \n",
      " 35  exp_1to2yrs    28995 non-null  int32  \n",
      " 36  exp_2to4yrs    28995 non-null  int32  \n",
      " 37  exp_4plus      28995 non-null  int32  \n",
      " 38  exp_6to12mo    28995 non-null  int32  \n",
      " 39  exp_lt6mo      28995 non-null  int32  \n",
      " 40  eat_conv       28995 non-null  int32  \n",
      " 41  eat_cheat      28995 non-null  int32  \n",
      " 42  eat_quality    28995 non-null  int32  \n",
      " 43  eat_paleo      28995 non-null  int32  \n",
      " 44  eat_weigh      28995 non-null  int32  \n",
      " 45  US             28995 non-null  int32  \n",
      " 46  gender_        28995 non-null  int32  \n",
      " 47  norm_dl        28995 non-null  float64\n",
      " 48  norm_j         28995 non-null  float64\n",
      " 49  norm_s         28995 non-null  float64\n",
      " 50  norm_bs        28995 non-null  float64\n",
      " 51  total_lift     28995 non-null  float64\n",
      " 52  BMI            28995 non-null  float64\n",
      " 53  bmi_rounded    28995 non-null  float64\n",
      "dtypes: float64(14), int32(33), object(7)\n",
      "memory usage: 8.5+ MB\n"
     ]
    }
   ],
   "source": [
    "os.chdir('C:\\\\Users\\\\corne\\\\OneDrive\\\\Documents\\\\DS_Portfolio\\\\crossfit_project\\\\crossfit_project')\n",
    "df = pd.read_pickle('cleaned_cf_data.pkl')\n",
    "df.info()"
   ]
  },
  {
   "cell_type": "code",
   "execution_count": 50,
   "metadata": {},
   "outputs": [
    {
     "data": {
      "text/html": [
       "<div>\n",
       "<style scoped>\n",
       "    .dataframe tbody tr th:only-of-type {\n",
       "        vertical-align: middle;\n",
       "    }\n",
       "\n",
       "    .dataframe tbody tr th {\n",
       "        vertical-align: top;\n",
       "    }\n",
       "\n",
       "    .dataframe thead th {\n",
       "        text-align: right;\n",
       "    }\n",
       "</style>\n",
       "<table border=\"1\" class=\"dataframe\">\n",
       "  <thead>\n",
       "    <tr style=\"text-align: right;\">\n",
       "      <th></th>\n",
       "      <th>region</th>\n",
       "      <th>gender</th>\n",
       "      <th>age</th>\n",
       "      <th>height</th>\n",
       "      <th>weight</th>\n",
       "      <th>candj</th>\n",
       "      <th>snatch</th>\n",
       "      <th>deadlift</th>\n",
       "      <th>backsq</th>\n",
       "      <th>eat</th>\n",
       "      <th>...</th>\n",
       "      <th>eat_weigh</th>\n",
       "      <th>US</th>\n",
       "      <th>gender_</th>\n",
       "      <th>norm_dl</th>\n",
       "      <th>norm_j</th>\n",
       "      <th>norm_s</th>\n",
       "      <th>norm_bs</th>\n",
       "      <th>total_lift</th>\n",
       "      <th>BMI</th>\n",
       "      <th>bmi_rounded</th>\n",
       "    </tr>\n",
       "  </thead>\n",
       "  <tbody>\n",
       "    <tr>\n",
       "      <th>21</th>\n",
       "      <td>Southern California</td>\n",
       "      <td>Male</td>\n",
       "      <td>30.0</td>\n",
       "      <td>71.0</td>\n",
       "      <td>200.0</td>\n",
       "      <td>235.0</td>\n",
       "      <td>175.0</td>\n",
       "      <td>385.0</td>\n",
       "      <td>315.0</td>\n",
       "      <td>I eat whatever is convenient|</td>\n",
       "      <td>...</td>\n",
       "      <td>0</td>\n",
       "      <td>1</td>\n",
       "      <td>1</td>\n",
       "      <td>1.925000</td>\n",
       "      <td>1.175000</td>\n",
       "      <td>0.875000</td>\n",
       "      <td>1.575000</td>\n",
       "      <td>5.550000</td>\n",
       "      <td>27.894029</td>\n",
       "      <td>28.0</td>\n",
       "    </tr>\n",
       "    <tr>\n",
       "      <th>22</th>\n",
       "      <td>Africa</td>\n",
       "      <td>Male</td>\n",
       "      <td>28.0</td>\n",
       "      <td>70.0</td>\n",
       "      <td>176.0</td>\n",
       "      <td>187.0</td>\n",
       "      <td>134.0</td>\n",
       "      <td>335.0</td>\n",
       "      <td>254.0</td>\n",
       "      <td>I eat 1-3 full cheat meals per week|</td>\n",
       "      <td>...</td>\n",
       "      <td>0</td>\n",
       "      <td>0</td>\n",
       "      <td>1</td>\n",
       "      <td>1.903409</td>\n",
       "      <td>1.062500</td>\n",
       "      <td>0.761364</td>\n",
       "      <td>1.443182</td>\n",
       "      <td>5.170455</td>\n",
       "      <td>25.253091</td>\n",
       "      <td>25.0</td>\n",
       "    </tr>\n",
       "    <tr>\n",
       "      <th>27</th>\n",
       "      <td>North East</td>\n",
       "      <td>Male</td>\n",
       "      <td>35.0</td>\n",
       "      <td>68.0</td>\n",
       "      <td>225.0</td>\n",
       "      <td>285.0</td>\n",
       "      <td>205.0</td>\n",
       "      <td>440.0</td>\n",
       "      <td>405.0</td>\n",
       "      <td>I eat quality foods but don't measure the amount|</td>\n",
       "      <td>...</td>\n",
       "      <td>0</td>\n",
       "      <td>1</td>\n",
       "      <td>1</td>\n",
       "      <td>1.955556</td>\n",
       "      <td>1.266667</td>\n",
       "      <td>0.911111</td>\n",
       "      <td>1.800000</td>\n",
       "      <td>5.933333</td>\n",
       "      <td>34.210754</td>\n",
       "      <td>34.0</td>\n",
       "    </tr>\n",
       "    <tr>\n",
       "      <th>50</th>\n",
       "      <td>North Central</td>\n",
       "      <td>Male</td>\n",
       "      <td>36.0</td>\n",
       "      <td>71.0</td>\n",
       "      <td>199.0</td>\n",
       "      <td>267.0</td>\n",
       "      <td>212.0</td>\n",
       "      <td>485.0</td>\n",
       "      <td>390.0</td>\n",
       "      <td>I eat quality foods but don't measure the amount|</td>\n",
       "      <td>...</td>\n",
       "      <td>0</td>\n",
       "      <td>1</td>\n",
       "      <td>1</td>\n",
       "      <td>2.437186</td>\n",
       "      <td>1.341709</td>\n",
       "      <td>1.065327</td>\n",
       "      <td>1.959799</td>\n",
       "      <td>6.804020</td>\n",
       "      <td>27.754559</td>\n",
       "      <td>28.0</td>\n",
       "    </tr>\n",
       "    <tr>\n",
       "      <th>60</th>\n",
       "      <td>North East</td>\n",
       "      <td>Male</td>\n",
       "      <td>36.0</td>\n",
       "      <td>64.0</td>\n",
       "      <td>155.0</td>\n",
       "      <td>245.0</td>\n",
       "      <td>180.0</td>\n",
       "      <td>415.0</td>\n",
       "      <td>385.0</td>\n",
       "      <td>I eat strict Paleo|</td>\n",
       "      <td>...</td>\n",
       "      <td>0</td>\n",
       "      <td>1</td>\n",
       "      <td>1</td>\n",
       "      <td>2.677419</td>\n",
       "      <td>1.580645</td>\n",
       "      <td>1.161290</td>\n",
       "      <td>2.483871</td>\n",
       "      <td>7.903226</td>\n",
       "      <td>26.605395</td>\n",
       "      <td>27.0</td>\n",
       "    </tr>\n",
       "  </tbody>\n",
       "</table>\n",
       "<p>5 rows × 54 columns</p>\n",
       "</div>"
      ],
      "text/plain": [
       "                 region gender   age  height  weight  candj  snatch  deadlift  \\\n",
       "21  Southern California   Male  30.0    71.0   200.0  235.0   175.0     385.0   \n",
       "22               Africa   Male  28.0    70.0   176.0  187.0   134.0     335.0   \n",
       "27           North East   Male  35.0    68.0   225.0  285.0   205.0     440.0   \n",
       "50        North Central   Male  36.0    71.0   199.0  267.0   212.0     485.0   \n",
       "60           North East   Male  36.0    64.0   155.0  245.0   180.0     415.0   \n",
       "\n",
       "    backsq                                                eat  ... eat_weigh  \\\n",
       "21   315.0                      I eat whatever is convenient|  ...         0   \n",
       "22   254.0               I eat 1-3 full cheat meals per week|  ...         0   \n",
       "27   405.0  I eat quality foods but don't measure the amount|  ...         0   \n",
       "50   390.0  I eat quality foods but don't measure the amount|  ...         0   \n",
       "60   385.0                                I eat strict Paleo|  ...         0   \n",
       "\n",
       "   US gender_   norm_dl    norm_j    norm_s   norm_bs  total_lift        BMI  \\\n",
       "21  1       1  1.925000  1.175000  0.875000  1.575000    5.550000  27.894029   \n",
       "22  0       1  1.903409  1.062500  0.761364  1.443182    5.170455  25.253091   \n",
       "27  1       1  1.955556  1.266667  0.911111  1.800000    5.933333  34.210754   \n",
       "50  1       1  2.437186  1.341709  1.065327  1.959799    6.804020  27.754559   \n",
       "60  1       1  2.677419  1.580645  1.161290  2.483871    7.903226  26.605395   \n",
       "\n",
       "    bmi_rounded  \n",
       "21         28.0  \n",
       "22         25.0  \n",
       "27         34.0  \n",
       "50         28.0  \n",
       "60         27.0  \n",
       "\n",
       "[5 rows x 54 columns]"
      ]
     },
     "execution_count": 50,
     "metadata": {},
     "output_type": "execute_result"
    }
   ],
   "source": [
    "df.head()"
   ]
  },
  {
   "cell_type": "code",
   "execution_count": 51,
   "metadata": {},
   "outputs": [
    {
     "data": {
      "image/png": "[encoded data removed]",
      "text/plain": [
       "<Figure size 1400x600 with 2 Axes>"
      ]
     },
     "metadata": {},
     "output_type": "display_data"
    }
   ],
   "source": [
    "msno.matrix(df, figsize=(14,6),fontsize=11);"
   ]
  },
  {
   "attachments": {},
   "cell_type": "markdown",
   "metadata": {},
   "source": [
    "## Selecting features for model\n",
    "\n",
    "Features are selected for use in predictive models. Features that are redundant, have been encoded, or have been engineered into new features are not included in further analyses. Individual event performances are no longer considered, and the target is the total weight lifted normalized by athlete bodyweight."
   ]
  },
  {
   "cell_type": "code",
   "execution_count": 52,
   "metadata": {},
   "outputs": [
    {
     "name": "stdout",
     "output_type": "stream",
     "text": [
      "Selected features:\n",
      " ['age' 'rec' 'high_school' 'college' 'pro' 'no_background' 'exp_coach'\n",
      " 'exp_alone' 'exp_courses' 'life_changing' 'exp_trainer' 'exp_level1'\n",
      " 'exp_start_nr' 'rest_plus' 'rest_minus' 'rest_sched' 'sched_0extra'\n",
      " 'sched_1extra' 'sched_2extra' 'sched_3extra' 'sched_nr' 'rest_nr'\n",
      " 'exp_1to2yrs' 'exp_2to4yrs' 'exp_4plus' 'exp_6to12mo' 'exp_lt6mo'\n",
      " 'eat_conv' 'eat_cheat' 'eat_quality' 'eat_paleo' 'eat_weigh' 'US'\n",
      " 'gender_' 'total_lift' 'BMI']\n"
     ]
    }
   ],
   "source": [
    "df_select = df.drop(columns=['region','height','weight','candj','snatch','deadlift','norm_bs', 'norm_dl', 'norm_j', 'norm_s','bmi_rounded','backsq','eat','background','experience','schedule','howlong','gender'])\n",
    "print('Selected features:\\n',df_select.columns.values)"
   ]
  },
  {
   "attachments": {},
   "cell_type": "markdown",
   "metadata": {},
   "source": [
    "### Random forest regression model\n",
    "\n",
    "A random forest regression model is optimized to predict athlete performance. The random forest regressor randomly selects subsets of the original dataset with replacement, creating multiple training sets known as bootstrap samples. For each bootstrap sample, a decision tree is constructed using a subset of features. The decision tree is built by recursively splitting the data based on the selected features and their optimal thresholds. The final prediction is obtained by aggregating or \"bagging\" the individual predictions made by each decision tree. Random forest regression models work well with tabular data, large datasets, high-dimensional data, and non-linear data. \n",
    "\n",
    "In our modeling we use the root mean squared error is used as a cost function: \n",
    "\n",
    "<img src=\"https://miro.medium.com/max/327/1*9hQVcasuwx5ddq_s3MFCyw.gif\" />\n"
   ]
  },
  {
   "cell_type": "code",
   "execution_count": 56,
   "metadata": {},
   "outputs": [],
   "source": [
    "from sklearn.model_selection import train_test_split,cross_val_score\n",
    "from sklearn.ensemble import RandomForestRegressor\n",
    "from sklearn.metrics import mean_squared_error\n",
    "import xgboost as xgb"
   ]
  },
  {
   "cell_type": "code",
   "execution_count": 57,
   "metadata": {},
   "outputs": [],
   "source": [
    "#Assigning test and train sets\n",
    "train_set, test_set = train_test_split(df_select, test_size=0.2, random_state=10)\n",
    "\n",
    "X_train, y_train = train_set.drop(columns=['total_lift']), train_set['total_lift']\n",
    "X_test, y_test = test_set.drop(columns=['total_lift']), test_set['total_lift']"
   ]
  },
  {
   "cell_type": "code",
   "execution_count": 58,
   "metadata": {},
   "outputs": [
    {
     "name": "stdout",
     "output_type": "stream",
     "text": [
      "Random forest regression model baseline RMSE: \n",
      "0.863\n"
     ]
    }
   ],
   "source": [
    "#random forest baseline\n",
    "rnd_clf = RandomForestRegressor(n_estimators=100, max_depth = 12,oob_score=True, random_state=10).fit(X_train,y_train)\n",
    "rnd_pred = rnd_clf.predict(X_test)\n",
    "rnd_score = mean_squared_error(y_test, rnd_pred,squared=False)\n",
    "print(f'Random forest regression model baseline RMSE: \\n{rnd_score.round(3)}')"
   ]
  },
  {
   "attachments": {},
   "cell_type": "markdown",
   "metadata": {},
   "source": [
    "### XGBoost\n",
    "\n",
    "XGBoost stands for eXtreme gradient boosting and is a gradient boosted trees algorithm. In boosting, trees are sequentially built such that each subsequent tree aims to reduce the errors of the previous tree. Custom XGBoost callbacks were created during model optimizaiton to control learning rate decay, implement early stopping, and plot training results. A schematic of this iterative process is shown in the figure below.\n",
    "<br>\n",
    "<img src=\"https://docs.aws.amazon.com/images/sagemaker/latest/dg/images/xgboost_illustration.png\" />\n",
    "</br>\n",
    "<br>\n",
    "Image from [AWS, How XGBoost Works](https://docs.aws.amazon.com/sagemaker/latest/dg/xgboost-HowItWorks.html)\n",
    "</br>\n",
    "\n",
    "In addition, several features of XGBoost often lead to superior performance with tabular data. For example, XGBoost grows trees up to a specifiable maximum depth and prunes backwards to improve model fit. This is unlike other algorithms that build trees from the top down and stop once a negative loss is encountered on a single splitting step using a \"greedy\" algorithm. Additionally, there is built in regularization to avoid overfitting and capacity for parallelization.\n"
   ]
  },
  {
   "cell_type": "code",
   "execution_count": 60,
   "metadata": {},
   "outputs": [],
   "source": [
    "#defining custom learning rate decay\n",
    "def learning_rate_decay(boosting_round): #, num_boost_round):\n",
    "    learning_rate_start = 0.4\n",
    "    learning_rate_min = 0.05\n",
    "    lr_decay = 0.7\n",
    "    lr = learning_rate_start * np.power(lr_decay, boosting_round)\n",
    "    return max(learning_rate_min, lr)\n",
    "\n",
    "lr_callback = xgb.callback.LearningRateScheduler(learning_rate_decay)"
   ]
  },
  {
   "cell_type": "code",
   "execution_count": 61,
   "metadata": {},
   "outputs": [],
   "source": [
    "#defining callback for plotting XGBoost fit progress, adapting from XGBoost documentation\n",
    "class Plotting(xgb.callback.TrainingCallback):\n",
    "    def __init__(self, rounds):\n",
    "        self.fig = plt.figure()\n",
    "        self.ax = self.fig.add_subplot(111)\n",
    "        self.rounds = rounds\n",
    "        self.lines = {}\n",
    "        self.fig.show()\n",
    "        self.x = np.linspace(0, self.rounds, self.rounds)\n",
    "        plt.ion()\n",
    "\n",
    "    def _get_key(self, data, metric):\n",
    "        return f'{data}-{metric}'\n",
    "\n",
    "    def after_iteration(self, model, epoch, evals_log):\n",
    "        if not self.lines:\n",
    "            for data, metric in evals_log.items():\n",
    "                for metric_name, log in metric.items():\n",
    "                    key = self._get_key(data, metric_name)\n",
    "                    expanded = log + [0] * (self.rounds - len(log))\n",
    "                    self.lines[key],  = self.ax.plot(self.x, expanded, label=key)\n",
    "                    self.ax.legend()\n",
    "        else:\n",
    "            for data, metric in evals_log.items():\n",
    "                for metric_name, log in metric.items():\n",
    "                    key = self._get_key(data, metric_name)\n",
    "                    expanded = log + [0] * (self.rounds - len(log))\n",
    "                    self.lines[key].set_ydata(expanded)\n",
    "            self.fig.canvas.draw()\n",
    "        return False"
   ]
  },
  {
   "cell_type": "code",
   "execution_count": 62,
   "metadata": {},
   "outputs": [],
   "source": [
    "#defining early stopping callback\n",
    "es = xgb.callback.EarlyStopping(rounds=100,save_best=True)"
   ]
  },
  {
   "cell_type": "code",
   "execution_count": 63,
   "metadata": {},
   "outputs": [
    {
     "name": "stdout",
     "output_type": "stream",
     "text": [
      "Training and evluation RMSE scores:\n",
      "[0]\ttrain-rmse:3.80923\teval-rmse:3.81266\n"
     ]
    },
    {
     "name": "stderr",
     "output_type": "stream",
     "text": [
      "C:\\Users\\corne\\AppData\\Local\\Temp\\ipykernel_3540\\1138537394.py:8: UserWarning: Matplotlib is currently using module://matplotlib_inline.backend_inline, which is a non-GUI backend, so cannot show the figure.\n",
      "  self.fig.show()\n"
     ]
    },
    {
     "name": "stdout",
     "output_type": "stream",
     "text": [
      "[100]\ttrain-rmse:0.82707\teval-rmse:0.85081\n",
      "[200]\ttrain-rmse:0.81175\teval-rmse:0.84634\n",
      "[300]\ttrain-rmse:0.80052\teval-rmse:0.84445\n",
      "[400]\ttrain-rmse:0.79081\teval-rmse:0.84269\n",
      "[500]\ttrain-rmse:0.78215\teval-rmse:0.84173\n",
      "[600]\ttrain-rmse:0.77440\teval-rmse:0.84027\n",
      "[700]\ttrain-rmse:0.76668\teval-rmse:0.83956\n",
      "[800]\ttrain-rmse:0.75950\teval-rmse:0.83924\n",
      "[900]\ttrain-rmse:0.75302\teval-rmse:0.83926\n",
      "[1000]\ttrain-rmse:0.74687\teval-rmse:0.83898\n",
      "[1100]\ttrain-rmse:0.74078\teval-rmse:0.83858\n",
      "[1123]\ttrain-rmse:0.73955\teval-rmse:0.83868\n"
     ]
    },
    {
     "data": {
      "image/png": "[encoded data removed]",
      "text/plain": [
       "<Figure size 1000x600 with 1 Axes>"
      ]
     },
     "metadata": {},
     "output_type": "display_data"
    }
   ],
   "source": [
    "#XGBoost \n",
    "dtrain = xgb.DMatrix(X_train, label=y_train)\n",
    "dtest = xgb.DMatrix(X_test, label=y_test)\n",
    "param = {'max_depth': 4,'subsample':.6,'reg_alpha':0}\n",
    "evallist = [(dtrain, 'train'), (dtest, 'eval')]\n",
    "num_round = 1500\n",
    "print('Training and evluation RMSE scores:')\n",
    "#bst = xgb.train(param, dtrain, num_round, evallist, verbose_eval=100,early_stopping_rounds=100,callbacks=[lr_callback, Plotting(num_round)])\n",
    "bst= xgb.train(param, dtrain, num_round, evals=evallist, verbose_eval=100,callbacks=[lr_callback, Plotting(num_round),es])\n",
    "plt.xlabel('Training round')\n",
    "plt.ylabel('RMSE');\n",
    "plt.title('Training XGBoost')\n",
    "plt.xlim((0,bst.best_iteration));"
   ]
  },
  {
   "cell_type": "code",
   "execution_count": 64,
   "metadata": {},
   "outputs": [
    {
     "name": "stdout",
     "output_type": "stream",
     "text": [
      "Best iteration and score:\n"
     ]
    },
    {
     "data": {
      "text/plain": [
       "(1024, 0.839)"
      ]
     },
     "execution_count": 64,
     "metadata": {},
     "output_type": "execute_result"
    }
   ],
   "source": [
    "bst_pred = bst.predict(dtest)\n",
    "bst_rmse = mean_squared_error(y_test, bst_pred,squared=False)\n",
    "\n",
    "print('Best iteration and score:')\n",
    "bst.best_iteration, round(bst_rmse,3)"
   ]
  },
  {
   "attachments": {},
   "cell_type": "markdown",
   "metadata": {},
   "source": [
    "## Conclusion and recommendations\n",
    "\n"
   ]
  }
 ],
 "metadata": {
  "kernelspec": {
   "display_name": "python310",
   "language": "python",
   "name": "python3"
  },
  "language_info": {
   "codemirror_mode": {
    "name": "ipython",
    "version": 3
   },
   "file_extension": ".py",
   "mimetype": "text/x-python",
   "name": "python",
   "nbconvert_exporter": "python",
   "pygments_lexer": "ipython3",
   "version": "3.10.0"
  },
  "orig_nbformat": 4
 },
 "nbformat": 4,
 "nbformat_minor": 2
}
